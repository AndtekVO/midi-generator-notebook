{
 "cells": [
  {
   "cell_type": "code",
   "execution_count": 496,
   "metadata": {},
   "outputs": [
    {
     "data": {
      "text/html": [
       "<script>\n",
       "    // AUTORUN ALL CELLS ON NOTEBOOK-LOAD!\n",
       "    require(\n",
       "        ['base/js/namespace', 'jquery'], \n",
       "        function(jupyter, $) {\n",
       "            $(jupyter.events).on(\"kernel_ready.Kernel\", function () {\n",
       "                console.log(\"Auto-running all cells-below...\");\n",
       "                jupyter.actions.call('jupyter-notebook:run-all-cells-below');\n",
       "                jupyter.actions.call('jupyter-notebook:save-notebook');\n",
       "            });\n",
       "        }\n",
       "    );\n",
       "</script>"
      ],
      "text/plain": [
       "<IPython.core.display.HTML object>"
      ]
     },
     "metadata": {},
     "output_type": "display_data"
    }
   ],
   "source": [
    "%%html\n",
    "<script>\n",
    "    // AUTORUN ALL CELLS ON NOTEBOOK-LOAD!\n",
    "    require(\n",
    "        ['base/js/namespace', 'jquery'], \n",
    "        function(jupyter, $) {\n",
    "            $(jupyter.events).on(\"kernel_ready.Kernel\", function () {\n",
    "                console.log(\"Auto-running all cells-below...\");\n",
    "                jupyter.actions.call('jupyter-notebook:run-all-cells-below');\n",
    "                jupyter.actions.call('jupyter-notebook:save-notebook');\n",
    "            });\n",
    "        }\n",
    "    );\n",
    "</script>"
   ]
  },
  {
   "cell_type": "code",
   "execution_count": 497,
   "metadata": {},
   "outputs": [
    {
     "name": "stdout",
     "output_type": "stream",
     "text": [
      "[nltk_data] Downloading package vader_lexicon to\n",
      "[nltk_data]     C:\\Users\\Andtek\\AppData\\Roaming\\nltk_data...\n",
      "[nltk_data]   Package vader_lexicon is already up-to-date!\n"
     ]
    }
   ],
   "source": [
    "from pyknon.genmidi import Midi\n",
    "from pyknon.music import NoteSeq, Note\n",
    "import random\n",
    "from music21 import *\n",
    "from urllib.parse import urlparse\n",
    "from IPython.core.display import display, HTML\n",
    "from nltk.sentiment.vader import SentimentIntensityAnalyzer\n",
    "from nltk import tokenize\n",
    "import nltk\n",
    "nltk.download('vader_lexicon')\n",
    "\n",
    "us['musicxmlPath'] = 'bin\\\\MuseScore.exe'\n",
    "us['musescoreDirectPNGPath'] = 'bin\\\\MuseScore.exe'"
   ]
  },
  {
   "cell_type": "code",
   "execution_count": 498,
   "metadata": {},
   "outputs": [],
   "source": [
    "chromatic = [\"A\", \"A#\", \"B\", \"C\", \"C#\", \"D\", \"D#\", \"E\", \"F\", \"F#\", \"G\", \"G#\"] + chromatic + chromatic"
   ]
  },
  {
   "cell_type": "code",
   "execution_count": 499,
   "metadata": {},
   "outputs": [],
   "source": [
    "def make_midi(notes, filename):\n",
    "\tnotes1 = map(Note, notes)\n",
    "\tmidi = Midi(1, tempo=90)\n",
    "\tmidi.seq_notes(notes1, track = 0)\n",
    "\tmidi.write(filename)"
   ]
  },
  {
   "cell_type": "code",
   "execution_count": 500,
   "metadata": {},
   "outputs": [],
   "source": [
    "def play_midi(filename):\n",
    "\tmf = midi.MidiFile()\n",
    "\tmf.open(filename)\n",
    "\tmf.read()\n",
    "\tmf.close()\n",
    "\ts = midi.translate.midiFileToStream(mf)\n",
    "\ts.show('midi')"
   ]
  },
  {
   "cell_type": "markdown",
   "metadata": {},
   "source": [
    "# Compose_chord_base\n",
    "\n",
    "First, a progression is created calling compose_progression_from_word, which subsets the letters of the word that are included in the diatonic scale. <br>\n",
    "Second, the intervals are created in order to put together the chord. <br>\n",
    "According if the sentiment of the meaning is positive or negative a major or minor chord progression will be created <br>\n",
    "If the word has less than 3 letters included in the diatonic scale, a random sample of the chromatic scale will be drawn in accordance with the meaning <br> \n",
    "i.e. if the meaning is positive the chords will be major, otherwise they will be minor. <br>\n",
    "\n",
    "positive sentiment: compound score >= 0.05 <br>\n",
    "neutral sentiment: (compound score > -0.05) and (compound score < 0.05) <br>\n",
    "negative sentiment: compound score <= -0.05 <br>\n",
    "LEXICON https://github.com/cjhutto/vaderSentiment/blob/master/vaderSentiment/vader_lexicon.txt"
   ]
  },
  {
   "cell_type": "code",
   "execution_count": 501,
   "metadata": {},
   "outputs": [],
   "source": [
    "def compose_progression_from_word(word):\n",
    "\tresult = []\n",
    "\tfor char in word.upper():\n",
    "\t\tif char in [\"A\",\"B\",\"C\",\"D\",\"E\",\"F\",\"G\"]:\n",
    "\t\t\tresult.append(char)\n",
    "\tif result:\n",
    "\t\treturn result\n",
    "\telse:\n",
    "\t\treturn random.sample(chromatic, 4)"
   ]
  },
  {
   "cell_type": "code",
   "execution_count": 502,
   "metadata": {},
   "outputs": [],
   "source": [
    "def compose_chord_base(word, meaning, string=False):\n",
    "   \n",
    "    progression = compose_progression_from_word(word)\n",
    "    harmony = stream.Stream()\n",
    "    happyChords = []\n",
    "    sadChords = []\n",
    "    \n",
    "    for base in progression:\n",
    "        \n",
    "        chord_string = base\n",
    "        index = chromatic.index(base)\n",
    "        \n",
    "        \n",
    "        # In order to have a consonant chord it's necessary to define the musical intervals\n",
    "        tonic = chromatic[chromatic.index(chord_string.upper())]\n",
    "        thirdMaj = chromatic[chromatic.index(chord_string.upper()) + 4]\n",
    "        thirdMin =  chromatic[chromatic.index(chord_string.upper()) + 3]\n",
    "        fifthPerf = chromatic[chromatic.index(chord_string.upper()) + 7]\n",
    "        \n",
    "        \n",
    "        # Lexicon Sentiment Integration\n",
    "        sid = SentimentIntensityAnalyzer()\n",
    "        sentiment = sid.polarity_scores(meaning)\n",
    "        \n",
    "        \n",
    "        # Sad chords creation\n",
    "        if sentiment[\"compound\"] >= 0.05:\n",
    "            happyChords.append(chord.Chord([tonic,thirdMaj,fifthPerf]))\n",
    "        else:\n",
    "            sadChords.append(chord.Chord([tonic,thirdMin,fifthPerf]))\n",
    "\n",
    "            \n",
    "    # In order to have a musical harmony with more richness the quantity of notes in the word \n",
    "        # will be considered. If it's less than 3 notes other chords will be included at random in accordance with the\n",
    "            # Sentiment.\n",
    "\n",
    "    if len(progression) <= 3 and sentiment[\"compound\"] < 0.05 and  sentiment[\"compound\"] > -0.05 :\n",
    "        chord1 = random.sample(chromatic, 1)\n",
    "        chord2 = random.sample(chromatic, 1)\n",
    "        chord3 = random.sample(chromatic, 1)\n",
    "        chord4 = random.sample(chromatic, 1)\n",
    "        \n",
    "        triadMin1 = chord.Chord(\n",
    "        [str(chord1[0]), \n",
    "         chromatic[chromatic.index(str(chord1[0])) + 3],  \n",
    "         chromatic[chromatic.index(str(chord1[0])) + 7]])\n",
    "        \n",
    "        triadMaj2 = chord.Chord(\n",
    "        [str(chord2[0]), \n",
    "         chromatic[chromatic.index(str(chord2[0])) + 4],  \n",
    "         chromatic[chromatic.index(str(chord2[0])) + 7]])\n",
    "        \n",
    "        triadMin3 = chord.Chord(\n",
    "        [str(chord3[0]), \n",
    "         chromatic[chromatic.index(str(chord3[0])) + 3],  \n",
    "         chromatic[chromatic.index(str(chord3[0])) + 7]])\n",
    "        \n",
    "        triadMaj4 = chord.Chord(\n",
    "        [str(chord4[0]), \n",
    "         chromatic[chromatic.index(str(chord4[0])) + 4],  \n",
    "         chromatic[chromatic.index(str(chord4[0])) + 7]])\n",
    "        \n",
    "        return(triadMin1,triadMaj2,triadMin3,triadMaj4)\n",
    "    \n",
    "    \n",
    "    \n",
    "    elif len(progression) <= 3 and sentiment[\"compound\"] <= 0.05:\n",
    "        chord1 = random.sample(chromatic, 1)\n",
    "        chord2 = random.sample(chromatic, 1)\n",
    "        chord3 = random.sample(chromatic, 1)\n",
    "        chord4 = random.sample(chromatic, 1)\n",
    "        \n",
    "        triadMin1 = chord.Chord(\n",
    "        [str(chord1[0]), \n",
    "         chromatic[chromatic.index(str(chord1[0])) + 3],  \n",
    "         chromatic[chromatic.index(str(chord1[0])) + 7]])\n",
    "        \n",
    "        triadMin2 = chord.Chord(\n",
    "        [str(chord2[0]), \n",
    "         chromatic[chromatic.index(str(chord2[0])) + 3],  \n",
    "         chromatic[chromatic.index(str(chord2[0])) + 7]])\n",
    "        \n",
    "        triadMin3 = chord.Chord(\n",
    "        [str(chord3[0]), \n",
    "         chromatic[chromatic.index(str(chord3[0])) + 3],  \n",
    "         chromatic[chromatic.index(str(chord3[0])) + 7]])\n",
    "        \n",
    "        triadMin4 = chord.Chord(\n",
    "        [str(chord4[0]), \n",
    "         chromatic[chromatic.index(str(chord4[0])) + 3],  \n",
    "         chromatic[chromatic.index(str(chord4[0])) + 7]])\n",
    "        \n",
    "        return(triadMin1,triadMin2,triadMin3,triadMin4)\n",
    "    \n",
    "    \n",
    "    elif len(progression) <= 3 and sentiment[\"compound\"] >= 0.05:      \n",
    "        chord1 = random.sample(chromatic, 1)\n",
    "        chord2 = random.sample(chromatic, 1)\n",
    "        chord3 = random.sample(chromatic, 1)\n",
    "        chord4 = random.sample(chromatic, 1)\n",
    "        \n",
    "        triadMaj1 = chord.Chord(\n",
    "        [str(chord1[0]), \n",
    "         chromatic[chromatic.index(str(chord1[0])) + 4],  \n",
    "         chromatic[chromatic.index(str(chord1[0])) + 7]])\n",
    "        \n",
    "        triadMaj2 = chord.Chord(\n",
    "        [str(chord2[0]), \n",
    "         chromatic[chromatic.index(str(chord2[0])) + 4],  \n",
    "         chromatic[chromatic.index(str(chord2[0])) + 7]])\n",
    "        \n",
    "        triadMaj3 = chord.Chord(\n",
    "        [str(chord3[0]), \n",
    "         chromatic[chromatic.index(str(chord3[0])) + 4],  \n",
    "         chromatic[chromatic.index(str(chord3[0])) + 7]])\n",
    "        \n",
    "        triadMaj4 = chord.Chord(\n",
    "        [str(chord4[0]), \n",
    "         chromatic[chromatic.index(str(chord4[0])) + 4],  \n",
    "         chromatic[chromatic.index(str(chord4[0])) + 7]])\n",
    "        \n",
    "        return(\n",
    "            triadMaj1,triadMaj2,triadMaj3, triadMaj4)\n",
    "   \n",
    "    elif len(happyChords) == 0:\n",
    "        return(sadChords)\n",
    "    else:\n",
    "        return(happyChords)\n",
    "    \n",
    "        "
   ]
  },
  {
   "cell_type": "code",
   "execution_count": 503,
   "metadata": {},
   "outputs": [],
   "source": [
    "def create_melody(word, meaning, string=False):\n",
    "    return 0"
   ]
  },
  {
   "cell_type": "code",
   "execution_count": 504,
   "metadata": {},
   "outputs": [
    {
     "data": {
      "application/javascript": [
       "IPython.notebook.kernel.execute(\"URL = '\" + window.location + \"'\");"
      ],
      "text/plain": [
       "<IPython.core.display.Javascript object>"
      ]
     },
     "metadata": {},
     "output_type": "display_data"
    }
   ],
   "source": [
    "%%javascript\n",
    "IPython.notebook.kernel.execute(\"URL = '\" + window.location + \"'\");"
   ]
  },
  {
   "cell_type": "code",
   "execution_count": 505,
   "metadata": {},
   "outputs": [],
   "source": [
    "try:\n",
    "    word, meaning = str(urlparse(URL).query).replace(\"%20\",\" \").split(\"=\")\n",
    "except:\n",
    "    word, meaning = \"Water - Sky, Ocean, Beautiful\".split(\" - \")"
   ]
  },
  {
   "cell_type": "code",
   "execution_count": 506,
   "metadata": {},
   "outputs": [],
   "source": [
    "chord_base = compose_chord_base(word, meaning)"
   ]
  },
  {
   "cell_type": "code",
   "execution_count": 507,
   "metadata": {},
   "outputs": [
    {
     "data": {
      "text/html": [
       "<h1><center>Cars <br>the faster the race the better.</center></h1>"
      ],
      "text/plain": [
       "<IPython.core.display.HTML object>"
      ]
     },
     "metadata": {},
     "output_type": "display_data"
    },
    {
     "name": "stdout",
     "output_type": "stream",
     "text": [
      "Chord Base:\n"
     ]
    },
    {
     "data": {
      "image/png": "[encoded data removed]",
      "text/plain": [
       "<IPython.core.display.Image object>"
      ]
     },
     "metadata": {
      "image/png": {
       "height": 56,
       "width": 748
      }
     },
     "output_type": "display_data"
    },
    {
     "data": {
      "text/html": [
       "\n",
       "                <div id='midiPlayerDiv25129'></div>\n",
       "                <link rel=\"stylesheet\" href=\"//cuthbertLab.github.io/music21j/css/m21.css\"\n",
       "                    type=\"text/css\" />\n",
       "                <script>\n",
       "                require.config({\n",
       "                    paths: {'music21': '//cuthbertLab.github.io/music21j/src/music21'}\n",
       "                });\n",
       "                require(['music21'], function() {\n",
       "                               mp = new music21.miditools.MidiPlayer();\n",
       "                               mp.addPlayer('#midiPlayerDiv25129');\n",
       "                               mp.base64Load('data:audio/midi;base64,TVRoZAAAAAYAAQABBABNVHJrAAAAcQD/AwAA4ABAAJBCWgCQRloAkD1aoACAQgAAgEYAAIA9AACQR1oAkD9aAJBCWqAAgEcAAIA/AACAQgAAkEBaAJBEWgCQR1qgAIBAAACARAAAgEcAAJBDWgCQR1oAkD5aoACAQwAAgEcAAIA+AIgA/y8A');\n",
       "                        });\n",
       "                </script>"
      ],
      "text/plain": [
       "<IPython.core.display.HTML object>"
      ]
     },
     "metadata": {},
     "output_type": "display_data"
    },
    {
     "name": "stdout",
     "output_type": "stream",
     "text": [
      "F#-major triad\n",
      "B-major triad\n",
      "E-major triad\n",
      "G-major triad\n"
     ]
    }
   ],
   "source": [
    "# REFERENCE http://web.mit.edu/music21/doc/usersGuide/usersGuide_07_chords.html\n",
    "\n",
    "display(HTML('<h1><center>' + f\"{word} <br>{meaning}\" + '</center></h1>'))\n",
    "print(\"Chord Base:\")\n",
    "#chord_base[0].show()\n",
    "\n",
    "for i in chord_base:\n",
    "    i.duration.type = \"whole\"\n",
    "stream1 = stream.Stream()\n",
    "stream1.append(chord_base)\n",
    "stream1.duration.type = \"whole\"\n",
    "stream1.quarterLength\n",
    "stream1.show()\n",
    "\n",
    "\n",
    "stream1.show(\"midi\")\n",
    "stream1.write()\n",
    "for chord in stream1:\n",
    "    print(chord.pitchedCommonName)"
   ]
  },
  {
   "cell_type": "code",
   "execution_count": null,
   "metadata": {},
   "outputs": [],
   "source": []
  }
 ],
 "metadata": {
  "kernelspec": {
   "display_name": "Python 3",
   "language": "python",
   "name": "python3"
  },
  "language_info": {
   "codemirror_mode": {
    "name": "ipython",
    "version": 3
   },
   "file_extension": ".py",
   "mimetype": "text/x-python",
   "name": "python",
   "nbconvert_exporter": "python",
   "pygments_lexer": "ipython3",
   "version": "3.6.4"
  },
  "toc": {
   "base_numbering": 1,
   "nav_menu": {},
   "number_sections": true,
   "sideBar": true,
   "skip_h1_title": false,
   "title_cell": "Table of Contents",
   "title_sidebar": "Contents",
   "toc_cell": false,
   "toc_position": {},
   "toc_section_display": true,
   "toc_window_display": false
  }
 },
 "nbformat": 4,
 "nbformat_minor": 2
}
