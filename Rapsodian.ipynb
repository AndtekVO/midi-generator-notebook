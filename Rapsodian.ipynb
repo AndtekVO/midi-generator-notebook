{
 "cells": [
  {
   "cell_type": "code",
   "execution_count": 2,
   "metadata": {},
   "outputs": [
    {
     "name": "stdout",
     "output_type": "stream",
     "text": [
      "Requirement already satisfied: pyknon in c:\\programdata\\anaconda3\\lib\\site-packages\n"
     ]
    },
    {
     "name": "stderr",
     "output_type": "stream",
     "text": [
      "You are using pip version 9.0.1, however version 10.0.1 is available.\n",
      "You should consider upgrading via the 'python -m pip install --upgrade pip' command.\n"
     ]
    },
    {
     "name": "stdout",
     "output_type": "stream",
     "text": [
      "Requirement already satisfied: music21 in c:\\programdata\\anaconda3\\lib\\site-packages\n"
     ]
    },
    {
     "name": "stderr",
     "output_type": "stream",
     "text": [
      "You are using pip version 9.0.1, however version 10.0.1 is available.\n",
      "You should consider upgrading via the 'python -m pip install --upgrade pip' command.\n"
     ]
    },
    {
     "name": "stdout",
     "output_type": "stream",
     "text": [
      "Requirement already satisfied: nltk in c:\\programdata\\anaconda3\\lib\\site-packages\n",
      "Requirement already satisfied: six in c:\\programdata\\anaconda3\\lib\\site-packages (from nltk)\n"
     ]
    },
    {
     "name": "stderr",
     "output_type": "stream",
     "text": [
      "You are using pip version 9.0.1, however version 10.0.1 is available.\n",
      "You should consider upgrading via the 'python -m pip install --upgrade pip' command.\n"
     ]
    }
   ],
   "source": [
    "# Install a pip package in the current Jupyter kernel\n",
    "import sys\n",
    "!{sys.executable} -m pip install pyknon\n",
    "!{sys.executable} -m pip install music21\n",
    "!{sys.executable} -m pip install nltk"
   ]
  },
  {
   "cell_type": "code",
   "execution_count": 4,
   "metadata": {},
   "outputs": [],
   "source": [
    "# Import necessary Libraries \n",
    "from pyknon.genmidi import Midi\n",
    "from pyknon.music import NoteSeq, Note\n",
    "import random\n",
    "from music21 import *\n",
    "from urllib.parse import urlparse\n",
    "from nltk.sentiment.vader import SentimentIntensityAnalyzer\n",
    "from nltk import tokenize\n"
   ]
  },
  {
   "cell_type": "code",
   "execution_count": 5,
   "metadata": {
    "collapsed": true
   },
   "outputs": [],
   "source": [
    "#List of chromatic scale\n",
    "chromatic = [\"A\", \"A#\", \"B\", \"C\", \"C#\", \"D\", \"D#\", \"E\", \"F\", \"F#\", \"G\", \"G#\"]"
   ]
  },
  {
   "cell_type": "code",
   "execution_count": 6,
   "metadata": {
    "collapsed": true
   },
   "outputs": [],
   "source": [
    "#Creation of midi file\n",
    "def make_midi(notes, name, filename=\"demo.mid\"):\n",
    "\tnotes1 = map(Note, notes)\n",
    "\tmidi = Midi(1, tempo=90)\n",
    "\tmidi.seq_notes(notes1, track = 0)\n",
    "\tmidi.write(filename)"
   ]
  },
  {
   "cell_type": "code",
   "execution_count": 7,
   "metadata": {
    "collapsed": true
   },
   "outputs": [],
   "source": [
    "#Play created midi file\n",
    "def play_midi(filename):\n",
    "\tmf = midi.MidiFile()\n",
    "\tmf.open(filename)\n",
    "\tmf.read()\n",
    "\tmf.close()\n",
    "\ts = midi.translate.midiFileToStream(mf)\n",
    "\ts.show('midi')"
   ]
  },
  {
   "cell_type": "code",
   "execution_count": 8,
   "metadata": {
    "collapsed": true
   },
   "outputs": [],
   "source": [
    "#Chord progression composition. Based on the letters of the word. \n",
    "    # if it contains any letter that pertains a music note E.G. Bank (has an A), it will create the chord based on it.\n",
    "    # If it not contains any letter that is reflected in the diatonic scale (A,B,C,D,E,F,G), a sample will be drawn from the \n",
    "        # Chromatic scale\n",
    "def compose_progression_from_word(word):\n",
    "\tresult = []\n",
    "\tfor char in word.upper():\n",
    "\t\tif char in [\"A\",\"B\",\"C\",\"D\",\"E\",\"F\",\"G\"]:\n",
    "\t\t\tresult.append(char)\n",
    "\tif result:\n",
    "\t\treturn result\n",
    "\telse:\n",
    "\t\treturn random.sample(chromatic, 4)"
   ]
  },
  {
   "cell_type": "code",
   "execution_count": 58,
   "metadata": {},
   "outputs": [],
   "source": [
    "#First, a progression is created calling the previous function. \n",
    "#Second, the triad is created by drawing a random sample of the chromatic scale.\n",
    "#The compound sentiment polarity is computed and outputed as the second element of the tuple\n",
    "    #positive sentiment: compound score >= 0.05\n",
    "    #neutral sentiment: (compound score > -0.05) and (compound score < 0.05)\n",
    "    #negative sentiment: compound score <= -0.05\n",
    "    # LEXICON https://github.com/cjhutto/vaderSentiment/blob/master/vaderSentiment/vader_lexicon.txt\n",
    "\n",
    "\n",
    "def compose_rapsody(word, meaning, string=False):\n",
    "    progression = compose_progression_from_word(word)\n",
    "    harmony = []\n",
    "    for base in progression:\n",
    "        \n",
    "        chord_string = base + \"4\"\n",
    "        index = chromatic.index(base)\n",
    "        x = random.randint(0,1) + 3\n",
    "        y = 7 + index - x\n",
    "        chord_string += f\" {chromatic[x]}4 {chromatic[y]}4\"\n",
    "        \n",
    "        harmony.append(chord.Chord(chord_string))\n",
    "        \n",
    "        # Lexicon Sentiment Analysis NLTK\n",
    "        sid = SentimentIntensityAnalyzer()\n",
    "        sentiment = sid.polarity_scores(meaning)\n",
    "    if string:\n",
    "        return (chord_string, sentiment['compound'])\n",
    "    else:\n",
    "        return (harmony,sentiment['compound'])"
   ]
  },
  {
   "cell_type": "code",
   "execution_count": 59,
   "metadata": {},
   "outputs": [
    {
     "data": {
      "application/javascript": [
       "IPython.notebook.kernel.execute(\"URL = '\" + window.location + \"'\");"
      ],
      "text/plain": [
       "<IPython.core.display.Javascript object>"
      ]
     },
     "metadata": {},
     "output_type": "display_data"
    }
   ],
   "source": [
    "%%javascript\n",
    "IPython.notebook.kernel.execute(\"URL = '\" + window.location + \"'\");"
   ]
  },
  {
   "cell_type": "code",
   "execution_count": 62,
   "metadata": {},
   "outputs": [
    {
     "data": {
      "text/plain": [
       "([<music21.chord.Chord B4 C#4 D4>, <music21.chord.Chord E4 C#4 G4>], 0.5994)"
      ]
     },
     "execution_count": 62,
     "metadata": {},
     "output_type": "execute_result"
    }
   ],
   "source": [
    "try:\n",
    "    word, meaning = str(urlparse(URL).query).split(\"=\")\n",
    "except:\n",
    "    word, meaning = \"Blue - Sky, Ocean, Beautiful\".split(\" - \")\n",
    "compose_rapsody(word, meaning)"
   ]
  }
 ],
 "metadata": {
  "kernelspec": {
   "display_name": "Python 3",
   "language": "python",
   "name": "python3"
  },
  "language_info": {
   "codemirror_mode": {
    "name": "ipython",
    "version": 3
   },
   "file_extension": ".py",
   "mimetype": "text/x-python",
   "name": "python",
   "nbconvert_exporter": "python",
   "pygments_lexer": "ipython3",
   "version": "3.6.3"
  },
  "toc": {
   "base_numbering": 1,
   "nav_menu": {},
   "number_sections": true,
   "sideBar": true,
   "skip_h1_title": false,
   "title_cell": "Table of Contents",
   "title_sidebar": "Contents",
   "toc_cell": false,
   "toc_position": {},
   "toc_section_display": true,
   "toc_window_display": false
  }
 },
 "nbformat": 4,
 "nbformat_minor": 2
}
