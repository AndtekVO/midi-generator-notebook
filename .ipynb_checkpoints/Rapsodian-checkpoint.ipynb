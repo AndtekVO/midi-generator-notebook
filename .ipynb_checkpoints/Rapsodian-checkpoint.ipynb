{
 "cells": [
  {
   "cell_type": "code",
   "execution_count": 1,
   "metadata": {},
   "outputs": [
    {
     "name": "stdout",
     "output_type": "stream",
     "text": [
      "Requirement already satisfied: pyknon in /home/andtek/anaconda3/lib/python3.6/site-packages (1.2)\n",
      "Requirement already satisfied: music21 in /home/andtek/anaconda3/lib/python3.6/site-packages (5.1.0)\n"
     ]
    }
   ],
   "source": [
    "# Install a pip package in the current Jupyter kernel\n",
    "import sys\n",
    "!{sys.executable} -m pip install pyknon\n",
    "!{sys.executable} -m pip install music21"
   ]
  },
  {
   "cell_type": "code",
   "execution_count": 2,
   "metadata": {},
   "outputs": [],
   "source": [
    "from pyknon.genmidi import Midi\n",
    "from pyknon.music import NoteSeq, Note\n",
    "import random\n",
    "from music21 import midi\n",
    "from urllib.parse import urlparse"
   ]
  },
  {
   "cell_type": "code",
   "execution_count": 3,
   "metadata": {
    "collapsed": true
   },
   "outputs": [],
   "source": [
    "chromatic = [\"A\", \"A#\", \"B\", \"C\", \"C#\", \"D\", \"D#\", \"E\", \"F\", \"F#\", \"G\", \"G#\"]"
   ]
  },
  {
   "cell_type": "code",
   "execution_count": 4,
   "metadata": {
    "collapsed": true
   },
   "outputs": [],
   "source": [
    "def make_midi(notes, name, filename=\"demo.mid\"):\n",
    "\tnotes1 = map(Note, notes)\n",
    "\tmidi = Midi(1, tempo=90)\n",
    "\tmidi.seq_notes(notes1, track = 0)\n",
    "\tmidi.write(filename)"
   ]
  },
  {
   "cell_type": "code",
   "execution_count": 5,
   "metadata": {
    "collapsed": true
   },
   "outputs": [],
   "source": [
    "def play_midi(filename):\n",
    "\tmf = midi.MidiFile()\n",
    "\tmf.open(filename)\n",
    "\tmf.read()\n",
    "\tmf.close()\n",
    "\ts = midi.translate.midiFileToStream(mf)\n",
    "\ts.show('midi')"
   ]
  },
  {
   "cell_type": "code",
   "execution_count": 6,
   "metadata": {
    "collapsed": true
   },
   "outputs": [],
   "source": [
    "def compose_progression_from_word(word):\n",
    "\tresult = []\n",
    "\tfor char in word.upper():\n",
    "\t\tif char in [\"A\",\"B\",\"C\",\"D\",\"E\",\"F\",\"G\"]:\n",
    "\t\t\tresult.append(char)\n",
    "\tif result:\n",
    "\t\treturn result\n",
    "\telse:\n",
    "\t\treturn random.sample(chromatic, 4)"
   ]
  },
  {
   "cell_type": "code",
   "execution_count": 7,
   "metadata": {
    "collapsed": true
   },
   "outputs": [],
   "source": [
    "def compose_rapsody(word, meaning):\n",
    "    progression = compose_progression_from_word(word)\n",
    "    harmony = []\n",
    "    for base in progression:\n",
    "        \n",
    "        chord = base + \"4\"\n",
    "        index = chromatic.index(base)\n",
    "        x = random.randint(0,1) + 3\n",
    "        y = 7 + index - x\n",
    "        chord_string += f\" {chromatic[x]}4 {chromatic[y]}4\"\n",
    "        \n",
    "        harmony.append(chord.Chord(chord_string))\n",
    "    return harmony"
   ]
  },
  {
   "cell_type": "code",
   "execution_count": 8,
   "metadata": {},
   "outputs": [
    {
     "data": {
      "application/javascript": [
       "IPython.notebook.kernel.execute(\"URL = '\" + window.location + \"'\");"
      ],
      "text/plain": [
       "<IPython.core.display.Javascript object>"
      ]
     },
     "metadata": {},
     "output_type": "display_data"
    }
   ],
   "source": [
    "%%javascript\n",
    "IPython.notebook.kernel.execute(\"URL = '\" + window.location + \"'\");"
   ]
  },
  {
   "cell_type": "code",
   "execution_count": 10,
   "metadata": {},
   "outputs": [
    {
     "data": {
      "text/plain": [
       "['B4 C#4 D4', 'E4 C4 G#4']"
      ]
     },
     "execution_count": 10,
     "metadata": {},
     "output_type": "execute_result"
    }
   ],
   "source": [
    "try:\n",
    "    word, meaning = str(urlparse(URL).query).split(\"=\")\n",
    "except:\n",
    "    word, meaning = \"Blue - Sky, Ocean, Beautiful\".split(\" - \")\n",
    "compose_rapsody(word, meaning)"
   ]
  },
  {
   "cell_type": "code",
   "execution_count": null,
   "metadata": {
    "collapsed": true
   },
   "outputs": [],
   "source": []
  }
 ],
 "metadata": {
  "kernelspec": {
   "display_name": "Python 3",
   "language": "python",
   "name": "python3"
  },
  "language_info": {
   "codemirror_mode": {
    "name": "ipython",
    "version": 3
   },
   "file_extension": ".py",
   "mimetype": "text/x-python",
   "name": "python",
   "nbconvert_exporter": "python",
   "pygments_lexer": "ipython3",
   "version": "3.6.3"
  },
  "toc": {
   "base_numbering": 1,
   "nav_menu": {},
   "number_sections": true,
   "sideBar": true,
   "skip_h1_title": false,
   "title_cell": "Table of Contents",
   "title_sidebar": "Contents",
   "toc_cell": false,
   "toc_position": {},
   "toc_section_display": true,
   "toc_window_display": false
  }
 },
 "nbformat": 4,
 "nbformat_minor": 2
}
